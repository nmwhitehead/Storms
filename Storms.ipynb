{
 "cells": [
  {
   "cell_type": "code",
   "execution_count": 12,
   "metadata": {},
   "outputs": [],
   "source": [
    "import numpy as np\n",
    "import pandas as pd\n",
    "import seaborn as sns\n",
    "import matplotlib.pyplot as plt\n",
    "import datetime as dt"
   ]
  },
  {
   "cell_type": "code",
   "execution_count": 13,
   "metadata": {},
   "outputs": [],
   "source": [
    "# Data Source = https://www.kaggle.com/noaa/hurricane-database"
   ]
  },
  {
   "cell_type": "markdown",
   "metadata": {},
   "source": [
    "## Let's Load and Clean the Data"
   ]
  },
  {
   "cell_type": "code",
   "execution_count": 14,
   "metadata": {},
   "outputs": [],
   "source": [
    "# Load in and combine the hurricane databases\n",
    "atlantic_storms = pd.read_csv('hurricane-database/atlantic.csv')\n",
    "pacific_storms = pd.read_csv('hurricane-database/pacific.csv')\n",
    "all_storms = atlantic_storms.append(pacific_storms)"
   ]
  },
  {
   "cell_type": "code",
   "execution_count": 15,
   "metadata": {},
   "outputs": [],
   "source": [
    "# Replace -999 with NaN\n",
    "all_storms = all_storms.replace(-999, np.nan)\n",
    "all_storms = all_storms.replace(-99, np.nan)"
   ]
  },
  {
   "cell_type": "code",
   "execution_count": 16,
   "metadata": {},
   "outputs": [],
   "source": [
    "# There's probably an easier way to do this, but 8 didgit numbers are a bad way to show year month and day\n",
    "all_storms['Year'] = all_storms['Date'].astype(str).str.slice(0, 4)\n",
    "all_storms['Month'] = all_storms['Date'].astype(str).str.slice(4, 6)\n",
    "all_storms['Day'] = all_storms['Date'].astype(str).str.slice(6, 8)\n",
    "all_storms['Hour'] = all_storms['Time'].astype(str).str[:-2]\n",
    "all_storms['Minute'] = all_storms['Time'].astype(str).str[-2:]"
   ]
  },
  {
   "cell_type": "code",
   "execution_count": 17,
   "metadata": {},
   "outputs": [],
   "source": [
    "# Clean the hours and minutes\n",
    "all_storms['Hour'] = all_storms['Hour'].replace('', 0)\n",
    "all_storms['Minute'] = all_storms['Minute'].astype(str).replace('0', '00')"
   ]
  },
  {
   "cell_type": "code",
   "execution_count": 18,
   "metadata": {},
   "outputs": [],
   "source": [
    "# And now add those together and convert to datetime\n",
    "all_storms['Datetime'] = all_storms['Year'] + '-' + all_storms['Month'] + '-' + all_storms['Day'] + ' ' + all_storms['Hour'].astype(str) + ':' + all_storms['Minute']\n",
    "all_storms['Datetime'] = pd.to_datetime(all_storms['Datetime'])"
   ]
  },
  {
   "cell_type": "code",
   "execution_count": null,
   "metadata": {},
   "outputs": [],
   "source": []
  },
  {
   "cell_type": "markdown",
   "metadata": {},
   "source": [
    "## Let's Narrow This Down To Hurricanes Post America Having 50 States"
   ]
  },
  {
   "cell_type": "code",
   "execution_count": 30,
   "metadata": {},
   "outputs": [
    {
     "data": {
      "text/plain": [
       "array(['HU', ' TS', ' EX', ' TD', ' LO', ' DB', ' SD', ' SS', ' WV',\n",
       "       ' ET', ' PT', ' ST', ' HU '], dtype=object)"
      ]
     },
     "execution_count": 30,
     "metadata": {},
     "output_type": "execute_result"
    }
   ],
   "source": [
    "# I want to narrow this down to Hurricanes specifically\n",
    "all_storms['Status'].unique()"
   ]
  },
  {
   "cell_type": "code",
   "execution_count": 31,
   "metadata": {},
   "outputs": [],
   "source": [
    "# Not sure why there is a space bar in all of the Statuses, but let's get rid of that\n",
    "all_storms['Status'].replace([' HU', 'HU '], 'HU', inplace=True)"
   ]
  },
  {
   "cell_type": "code",
   "execution_count": 33,
   "metadata": {},
   "outputs": [],
   "source": [
    "# And let's make a hurricane specific DataFrame\n",
    "all_hurricanes = all_storms[all_storms['Status'] == 'HU']"
   ]
  },
  {
   "cell_type": "code",
   "execution_count": 93,
   "metadata": {},
   "outputs": [],
   "source": [
    "# And now get rid of the pre 1959 Data because there wasn't as much America to record before that\n",
    "all_hurricanes = all_hurricanes[all_hurricanes['Datetime'].dt.year >= 1959]"
   ]
  },
  {
   "cell_type": "code",
   "execution_count": 94,
   "metadata": {},
   "outputs": [
    {
     "data": {
      "text/html": [
       "<div>\n",
       "<style scoped>\n",
       "    .dataframe tbody tr th:only-of-type {\n",
       "        vertical-align: middle;\n",
       "    }\n",
       "\n",
       "    .dataframe tbody tr th {\n",
       "        vertical-align: top;\n",
       "    }\n",
       "\n",
       "    .dataframe thead th {\n",
       "        text-align: right;\n",
       "    }\n",
       "</style>\n",
       "<table border=\"1\" class=\"dataframe\">\n",
       "  <thead>\n",
       "    <tr style=\"text-align: right;\">\n",
       "      <th></th>\n",
       "      <th>ID</th>\n",
       "      <th>Name</th>\n",
       "      <th>Date</th>\n",
       "      <th>Time</th>\n",
       "      <th>Event</th>\n",
       "      <th>Status</th>\n",
       "      <th>Latitude</th>\n",
       "      <th>Longitude</th>\n",
       "      <th>Maximum Wind</th>\n",
       "      <th>Minimum Pressure</th>\n",
       "      <th>...</th>\n",
       "      <th>High Wind NE</th>\n",
       "      <th>High Wind SE</th>\n",
       "      <th>High Wind SW</th>\n",
       "      <th>High Wind NW</th>\n",
       "      <th>Year</th>\n",
       "      <th>Month</th>\n",
       "      <th>Day</th>\n",
       "      <th>Hour</th>\n",
       "      <th>Minute</th>\n",
       "      <th>Datetime</th>\n",
       "    </tr>\n",
       "  </thead>\n",
       "  <tbody>\n",
       "    <tr>\n",
       "      <td>25301</td>\n",
       "      <td>AL031959</td>\n",
       "      <td>UNNAMED</td>\n",
       "      <td>19590619</td>\n",
       "      <td>600</td>\n",
       "      <td></td>\n",
       "      <td>HU</td>\n",
       "      <td>34.5N</td>\n",
       "      <td>70.0W</td>\n",
       "      <td>65.0</td>\n",
       "      <td>NaN</td>\n",
       "      <td>...</td>\n",
       "      <td>NaN</td>\n",
       "      <td>NaN</td>\n",
       "      <td>NaN</td>\n",
       "      <td>NaN</td>\n",
       "      <td>1959</td>\n",
       "      <td>06</td>\n",
       "      <td>19</td>\n",
       "      <td>6</td>\n",
       "      <td>00</td>\n",
       "      <td>1959-06-19 06:00:00</td>\n",
       "    </tr>\n",
       "    <tr>\n",
       "      <td>25302</td>\n",
       "      <td>AL031959</td>\n",
       "      <td>UNNAMED</td>\n",
       "      <td>19590619</td>\n",
       "      <td>1200</td>\n",
       "      <td></td>\n",
       "      <td>HU</td>\n",
       "      <td>38.4N</td>\n",
       "      <td>65.0W</td>\n",
       "      <td>75.0</td>\n",
       "      <td>974.0</td>\n",
       "      <td>...</td>\n",
       "      <td>NaN</td>\n",
       "      <td>NaN</td>\n",
       "      <td>NaN</td>\n",
       "      <td>NaN</td>\n",
       "      <td>1959</td>\n",
       "      <td>06</td>\n",
       "      <td>19</td>\n",
       "      <td>12</td>\n",
       "      <td>00</td>\n",
       "      <td>1959-06-19 12:00:00</td>\n",
       "    </tr>\n",
       "    <tr>\n",
       "      <td>25331</td>\n",
       "      <td>AL041959</td>\n",
       "      <td>CINDY</td>\n",
       "      <td>19590708</td>\n",
       "      <td>1200</td>\n",
       "      <td></td>\n",
       "      <td>HU</td>\n",
       "      <td>32.4N</td>\n",
       "      <td>78.1W</td>\n",
       "      <td>65.0</td>\n",
       "      <td>995.0</td>\n",
       "      <td>...</td>\n",
       "      <td>NaN</td>\n",
       "      <td>NaN</td>\n",
       "      <td>NaN</td>\n",
       "      <td>NaN</td>\n",
       "      <td>1959</td>\n",
       "      <td>07</td>\n",
       "      <td>08</td>\n",
       "      <td>12</td>\n",
       "      <td>00</td>\n",
       "      <td>1959-07-08 12:00:00</td>\n",
       "    </tr>\n",
       "    <tr>\n",
       "      <td>25332</td>\n",
       "      <td>AL041959</td>\n",
       "      <td>CINDY</td>\n",
       "      <td>19590708</td>\n",
       "      <td>1800</td>\n",
       "      <td></td>\n",
       "      <td>HU</td>\n",
       "      <td>32.4N</td>\n",
       "      <td>78.7W</td>\n",
       "      <td>65.0</td>\n",
       "      <td>NaN</td>\n",
       "      <td>...</td>\n",
       "      <td>NaN</td>\n",
       "      <td>NaN</td>\n",
       "      <td>NaN</td>\n",
       "      <td>NaN</td>\n",
       "      <td>1959</td>\n",
       "      <td>07</td>\n",
       "      <td>08</td>\n",
       "      <td>18</td>\n",
       "      <td>00</td>\n",
       "      <td>1959-07-08 18:00:00</td>\n",
       "    </tr>\n",
       "    <tr>\n",
       "      <td>25333</td>\n",
       "      <td>AL041959</td>\n",
       "      <td>CINDY</td>\n",
       "      <td>19590709</td>\n",
       "      <td>0</td>\n",
       "      <td></td>\n",
       "      <td>HU</td>\n",
       "      <td>32.6N</td>\n",
       "      <td>79.3W</td>\n",
       "      <td>65.0</td>\n",
       "      <td>995.0</td>\n",
       "      <td>...</td>\n",
       "      <td>NaN</td>\n",
       "      <td>NaN</td>\n",
       "      <td>NaN</td>\n",
       "      <td>NaN</td>\n",
       "      <td>1959</td>\n",
       "      <td>07</td>\n",
       "      <td>09</td>\n",
       "      <td>0</td>\n",
       "      <td>00</td>\n",
       "      <td>1959-07-09 00:00:00</td>\n",
       "    </tr>\n",
       "  </tbody>\n",
       "</table>\n",
       "<p>5 rows × 28 columns</p>\n",
       "</div>"
      ],
      "text/plain": [
       "             ID                 Name      Date  Time Event Status Latitude  \\\n",
       "25301  AL031959              UNNAMED  19590619   600           HU    34.5N   \n",
       "25302  AL031959              UNNAMED  19590619  1200           HU    38.4N   \n",
       "25331  AL041959                CINDY  19590708  1200           HU    32.4N   \n",
       "25332  AL041959                CINDY  19590708  1800           HU    32.4N   \n",
       "25333  AL041959                CINDY  19590709     0           HU    32.6N   \n",
       "\n",
       "      Longitude  Maximum Wind  Minimum Pressure  ...  High Wind NE  \\\n",
       "25301     70.0W          65.0               NaN  ...           NaN   \n",
       "25302     65.0W          75.0             974.0  ...           NaN   \n",
       "25331     78.1W          65.0             995.0  ...           NaN   \n",
       "25332     78.7W          65.0               NaN  ...           NaN   \n",
       "25333     79.3W          65.0             995.0  ...           NaN   \n",
       "\n",
       "       High Wind SE  High Wind SW  High Wind NW  Year  Month  Day  Hour  \\\n",
       "25301           NaN           NaN           NaN  1959     06   19     6   \n",
       "25302           NaN           NaN           NaN  1959     06   19    12   \n",
       "25331           NaN           NaN           NaN  1959     07   08    12   \n",
       "25332           NaN           NaN           NaN  1959     07   08    18   \n",
       "25333           NaN           NaN           NaN  1959     07   09     0   \n",
       "\n",
       "       Minute            Datetime  \n",
       "25301      00 1959-06-19 06:00:00  \n",
       "25302      00 1959-06-19 12:00:00  \n",
       "25331      00 1959-07-08 12:00:00  \n",
       "25332      00 1959-07-08 18:00:00  \n",
       "25333      00 1959-07-09 00:00:00  \n",
       "\n",
       "[5 rows x 28 columns]"
      ]
     },
     "execution_count": 94,
     "metadata": {},
     "output_type": "execute_result"
    }
   ],
   "source": [
    "all_hurricanes.head()"
   ]
  },
  {
   "cell_type": "code",
   "execution_count": null,
   "metadata": {},
   "outputs": [],
   "source": []
  },
  {
   "cell_type": "markdown",
   "metadata": {},
   "source": [
    "## Let's Make A Few More Dataframes"
   ]
  },
  {
   "cell_type": "code",
   "execution_count": 95,
   "metadata": {},
   "outputs": [
    {
     "data": {
      "text/plain": [
       "Index(['ID', 'Name', 'Date', 'Time', 'Event', 'Status', 'Latitude',\n",
       "       'Longitude', 'Maximum Wind', 'Minimum Pressure', 'Low Wind NE',\n",
       "       'Low Wind SE', 'Low Wind SW', 'Low Wind NW', 'Moderate Wind NE',\n",
       "       'Moderate Wind SE', 'Moderate Wind SW', 'Moderate Wind NW',\n",
       "       'High Wind NE', 'High Wind SE', 'High Wind SW', 'High Wind NW', 'Year',\n",
       "       'Month', 'Day', 'Hour', 'Minute', 'Datetime'],\n",
       "      dtype='object')"
      ]
     },
     "execution_count": 95,
     "metadata": {},
     "output_type": "execute_result"
    }
   ],
   "source": [
    "all_hurricanes.columns"
   ]
  },
  {
   "cell_type": "code",
   "execution_count": 96,
   "metadata": {},
   "outputs": [],
   "source": [
    "# Let's make a Dataframe that narrows down info on each hurricane\n",
    "each_hurricane = pd.DataFrame(all_hurricanes['Maximum Wind'].groupby(all_hurricanes['ID']).max())\n",
    "each_hurricane['Average Max Speed'] = all_hurricanes['Maximum Wind'].groupby(all_hurricanes['ID']).mean()\n",
    "each_hurricane['Start Date'] = all_hurricanes['Datetime'].groupby(all_hurricanes['ID']).min()\n",
    "each_hurricane['End Date'] = all_hurricanes['Datetime'].groupby(all_hurricanes['ID']).max()"
   ]
  },
  {
   "cell_type": "code",
   "execution_count": 97,
   "metadata": {},
   "outputs": [],
   "source": [
    "# Since the info on the hurricanes was reported every 6 hours,let's break it down as such\n",
    "each_hurricane['Length of Time Rounded Up To Nearest 6 Hours'] = all_hurricanes['Datetime'].groupby(all_hurricanes['ID']).max() - all_hurricanes['Datetime'].groupby(all_hurricanes['ID']).min()"
   ]
  },
  {
   "cell_type": "code",
   "execution_count": 98,
   "metadata": {},
   "outputs": [
    {
     "name": "stderr",
     "output_type": "stream",
     "text": [
      "C:\\Users\\nolan\\Anaconda3\\lib\\site-packages\\ipykernel_launcher.py:2: FutureWarning: by argument to sort_index is deprecated, please use .sort_values(by=...)\n",
      "  \n"
     ]
    }
   ],
   "source": [
    "# Order by Date not ID\n",
    "each_hurricane.sort_index(by=['Start Date'], inplace=True)"
   ]
  },
  {
   "cell_type": "code",
   "execution_count": 99,
   "metadata": {},
   "outputs": [
    {
     "data": {
      "text/html": [
       "<div>\n",
       "<style scoped>\n",
       "    .dataframe tbody tr th:only-of-type {\n",
       "        vertical-align: middle;\n",
       "    }\n",
       "\n",
       "    .dataframe tbody tr th {\n",
       "        vertical-align: top;\n",
       "    }\n",
       "\n",
       "    .dataframe thead th {\n",
       "        text-align: right;\n",
       "    }\n",
       "</style>\n",
       "<table border=\"1\" class=\"dataframe\">\n",
       "  <thead>\n",
       "    <tr style=\"text-align: right;\">\n",
       "      <th></th>\n",
       "      <th>Maximum Wind</th>\n",
       "      <th>Average Max Speed</th>\n",
       "      <th>Start Date</th>\n",
       "      <th>End Date</th>\n",
       "      <th>Length of Time Rounded Up To Nearest 6 Hours</th>\n",
       "    </tr>\n",
       "    <tr>\n",
       "      <th>ID</th>\n",
       "      <th></th>\n",
       "      <th></th>\n",
       "      <th></th>\n",
       "      <th></th>\n",
       "      <th></th>\n",
       "    </tr>\n",
       "  </thead>\n",
       "  <tbody>\n",
       "    <tr>\n",
       "      <td>AL031959</td>\n",
       "      <td>75.0</td>\n",
       "      <td>70.000000</td>\n",
       "      <td>1959-06-19 06:00:00</td>\n",
       "      <td>1959-06-19 12:00:00</td>\n",
       "      <td>0 days 06:00:00</td>\n",
       "    </tr>\n",
       "    <tr>\n",
       "      <td>AL041959</td>\n",
       "      <td>65.0</td>\n",
       "      <td>65.000000</td>\n",
       "      <td>1959-07-08 12:00:00</td>\n",
       "      <td>1959-07-09 04:00:00</td>\n",
       "      <td>0 days 16:00:00</td>\n",
       "    </tr>\n",
       "    <tr>\n",
       "      <td>AL051959</td>\n",
       "      <td>75.0</td>\n",
       "      <td>70.000000</td>\n",
       "      <td>1959-07-24 12:00:00</td>\n",
       "      <td>1959-07-25 06:00:00</td>\n",
       "      <td>0 days 18:00:00</td>\n",
       "    </tr>\n",
       "    <tr>\n",
       "      <td>CP011959</td>\n",
       "      <td>130.0</td>\n",
       "      <td>110.000000</td>\n",
       "      <td>1959-08-02 00:00:00</td>\n",
       "      <td>1959-08-07 06:00:00</td>\n",
       "      <td>5 days 06:00:00</td>\n",
       "    </tr>\n",
       "    <tr>\n",
       "      <td>EP091959</td>\n",
       "      <td>75.0</td>\n",
       "      <td>75.000000</td>\n",
       "      <td>1959-09-04 00:00:00</td>\n",
       "      <td>1959-09-11 00:00:00</td>\n",
       "      <td>7 days 00:00:00</td>\n",
       "    </tr>\n",
       "    <tr>\n",
       "      <td>...</td>\n",
       "      <td>...</td>\n",
       "      <td>...</td>\n",
       "      <td>...</td>\n",
       "      <td>...</td>\n",
       "      <td>...</td>\n",
       "    </tr>\n",
       "    <tr>\n",
       "      <td>AL112015</td>\n",
       "      <td>135.0</td>\n",
       "      <td>95.645161</td>\n",
       "      <td>2015-09-30 06:00:00</td>\n",
       "      <td>2015-10-07 06:00:00</td>\n",
       "      <td>7 days 00:00:00</td>\n",
       "    </tr>\n",
       "    <tr>\n",
       "      <td>EP192015</td>\n",
       "      <td>130.0</td>\n",
       "      <td>98.787879</td>\n",
       "      <td>2015-10-18 06:00:00</td>\n",
       "      <td>2015-10-26 06:00:00</td>\n",
       "      <td>8 days 00:00:00</td>\n",
       "    </tr>\n",
       "    <tr>\n",
       "      <td>EP202015</td>\n",
       "      <td>185.0</td>\n",
       "      <td>135.000000</td>\n",
       "      <td>2015-10-22 06:00:00</td>\n",
       "      <td>2015-10-24 00:00:00</td>\n",
       "      <td>1 days 18:00:00</td>\n",
       "    </tr>\n",
       "    <tr>\n",
       "      <td>AL122015</td>\n",
       "      <td>75.0</td>\n",
       "      <td>68.750000</td>\n",
       "      <td>2015-11-11 00:00:00</td>\n",
       "      <td>2015-11-11 18:00:00</td>\n",
       "      <td>0 days 18:00:00</td>\n",
       "    </tr>\n",
       "    <tr>\n",
       "      <td>EP222015</td>\n",
       "      <td>130.0</td>\n",
       "      <td>99.090909</td>\n",
       "      <td>2015-11-25 06:00:00</td>\n",
       "      <td>2015-11-27 18:00:00</td>\n",
       "      <td>2 days 12:00:00</td>\n",
       "    </tr>\n",
       "  </tbody>\n",
       "</table>\n",
       "<p>813 rows × 5 columns</p>\n",
       "</div>"
      ],
      "text/plain": [
       "          Maximum Wind  Average Max Speed          Start Date  \\\n",
       "ID                                                              \n",
       "AL031959          75.0          70.000000 1959-06-19 06:00:00   \n",
       "AL041959          65.0          65.000000 1959-07-08 12:00:00   \n",
       "AL051959          75.0          70.000000 1959-07-24 12:00:00   \n",
       "CP011959         130.0         110.000000 1959-08-02 00:00:00   \n",
       "EP091959          75.0          75.000000 1959-09-04 00:00:00   \n",
       "...                ...                ...                 ...   \n",
       "AL112015         135.0          95.645161 2015-09-30 06:00:00   \n",
       "EP192015         130.0          98.787879 2015-10-18 06:00:00   \n",
       "EP202015         185.0         135.000000 2015-10-22 06:00:00   \n",
       "AL122015          75.0          68.750000 2015-11-11 00:00:00   \n",
       "EP222015         130.0          99.090909 2015-11-25 06:00:00   \n",
       "\n",
       "                    End Date Length of Time Rounded Up To Nearest 6 Hours  \n",
       "ID                                                                         \n",
       "AL031959 1959-06-19 12:00:00                              0 days 06:00:00  \n",
       "AL041959 1959-07-09 04:00:00                              0 days 16:00:00  \n",
       "AL051959 1959-07-25 06:00:00                              0 days 18:00:00  \n",
       "CP011959 1959-08-07 06:00:00                              5 days 06:00:00  \n",
       "EP091959 1959-09-11 00:00:00                              7 days 00:00:00  \n",
       "...                      ...                                          ...  \n",
       "AL112015 2015-10-07 06:00:00                              7 days 00:00:00  \n",
       "EP192015 2015-10-26 06:00:00                              8 days 00:00:00  \n",
       "EP202015 2015-10-24 00:00:00                              1 days 18:00:00  \n",
       "AL122015 2015-11-11 18:00:00                              0 days 18:00:00  \n",
       "EP222015 2015-11-27 18:00:00                              2 days 12:00:00  \n",
       "\n",
       "[813 rows x 5 columns]"
      ]
     },
     "execution_count": 99,
     "metadata": {},
     "output_type": "execute_result"
    }
   ],
   "source": [
    "each_hurricane"
   ]
  },
  {
   "cell_type": "code",
   "execution_count": null,
   "metadata": {},
   "outputs": [],
   "source": []
  },
  {
   "cell_type": "code",
   "execution_count": 100,
   "metadata": {},
   "outputs": [],
   "source": [
    "# Let's get a per year DataFrame going\n",
    "annual_hurricane_data = pd.DataFrame(each_hurricane['End Date'].groupby(each_hurricane['Start Date'].dt.year).count())\n",
    "annual_hurricane_data.index.rename('Year', inplace=True)\n",
    "annual_hurricane_data.columns = ['Hurricane Count']"
   ]
  },
  {
   "cell_type": "code",
   "execution_count": 101,
   "metadata": {},
   "outputs": [],
   "source": [
    "# And let's add some other info to that DataFrame\n",
    "annual_hurricane_data['Longest Hurricane'] = each_hurricane['Length of Time Rounded Up To Nearest 6 Hours'].groupby(each_hurricane['Start Date'].dt.year).max()\n",
    "annual_hurricane_data['Max Wind Speed'] = each_hurricane['Maximum Wind'].groupby(each_hurricane['Start Date'].dt.year).max()"
   ]
  },
  {
   "cell_type": "code",
   "execution_count": 102,
   "metadata": {},
   "outputs": [
    {
     "data": {
      "text/html": [
       "<div>\n",
       "<style scoped>\n",
       "    .dataframe tbody tr th:only-of-type {\n",
       "        vertical-align: middle;\n",
       "    }\n",
       "\n",
       "    .dataframe tbody tr th {\n",
       "        vertical-align: top;\n",
       "    }\n",
       "\n",
       "    .dataframe thead th {\n",
       "        text-align: right;\n",
       "    }\n",
       "</style>\n",
       "<table border=\"1\" class=\"dataframe\">\n",
       "  <thead>\n",
       "    <tr style=\"text-align: right;\">\n",
       "      <th></th>\n",
       "      <th>Hurricane Count</th>\n",
       "      <th>Longest Hurricane</th>\n",
       "      <th>Max Wind Speed</th>\n",
       "    </tr>\n",
       "    <tr>\n",
       "      <th>Year</th>\n",
       "      <th></th>\n",
       "      <th></th>\n",
       "      <th></th>\n",
       "    </tr>\n",
       "  </thead>\n",
       "  <tbody>\n",
       "    <tr>\n",
       "      <td>1959</td>\n",
       "      <td>12</td>\n",
       "      <td>7 days 18:00:00</td>\n",
       "      <td>150.0</td>\n",
       "    </tr>\n",
       "    <tr>\n",
       "      <td>1960</td>\n",
       "      <td>9</td>\n",
       "      <td>11 days 12:00:00</td>\n",
       "      <td>125.0</td>\n",
       "    </tr>\n",
       "    <tr>\n",
       "      <td>1961</td>\n",
       "      <td>10</td>\n",
       "      <td>9 days 12:00:00</td>\n",
       "      <td>150.0</td>\n",
       "    </tr>\n",
       "    <tr>\n",
       "      <td>1962</td>\n",
       "      <td>5</td>\n",
       "      <td>4 days 12:00:00</td>\n",
       "      <td>100.0</td>\n",
       "    </tr>\n",
       "    <tr>\n",
       "      <td>1963</td>\n",
       "      <td>11</td>\n",
       "      <td>12 days 12:00:00</td>\n",
       "      <td>125.0</td>\n",
       "    </tr>\n",
       "  </tbody>\n",
       "</table>\n",
       "</div>"
      ],
      "text/plain": [
       "      Hurricane Count Longest Hurricane  Max Wind Speed\n",
       "Year                                                   \n",
       "1959               12   7 days 18:00:00           150.0\n",
       "1960                9  11 days 12:00:00           125.0\n",
       "1961               10   9 days 12:00:00           150.0\n",
       "1962                5   4 days 12:00:00           100.0\n",
       "1963               11  12 days 12:00:00           125.0"
      ]
     },
     "execution_count": 102,
     "metadata": {},
     "output_type": "execute_result"
    }
   ],
   "source": [
    "annual_hurricane_data.head()"
   ]
  },
  {
   "cell_type": "code",
   "execution_count": 135,
   "metadata": {},
   "outputs": [
    {
     "data": {
      "image/png": "[encoded data removed]",
      "text/plain": [
       "<Figure size 1152x864 with 1 Axes>"
      ]
     },
     "metadata": {
      "needs_background": "light"
     },
     "output_type": "display_data"
    }
   ],
   "source": [
    "# Let's look for some annual trends\n",
    "\n",
    "plt.figure(figsize=(16,12))\n",
    "\n",
    "plt.title('No Clear Upward Trend for Hurricane Max Speeds', fontsize=27)\n",
    "plt.ylabel('Max WInd SPeed in MPH', fontsize=32)\n",
    "\n",
    "plt.scatter(each_hurricane['Start Date'].dt.year, each_hurricane['Maximum Wind'], label='Max Speed of Each Hurricane')\n",
    "plt.plot(each_hurricane['Maximum Wind'].groupby(each_hurricane['Start Date'].dt.year).mean(), color='red', label='Average Max Speed Per Year');\n",
    "\n",
    "plt.legend();"
   ]
  },
  {
   "cell_type": "code",
   "execution_count": null,
   "metadata": {},
   "outputs": [],
   "source": []
  },
  {
   "cell_type": "code",
   "execution_count": null,
   "metadata": {},
   "outputs": [],
   "source": []
  },
  {
   "cell_type": "code",
   "execution_count": null,
   "metadata": {},
   "outputs": [],
   "source": []
  },
  {
   "cell_type": "code",
   "execution_count": 126,
   "metadata": {},
   "outputs": [
    {
     "data": {
      "image/png": "[encoded data removed]",
      "text/plain": [
       "<Figure size 1152x864 with 1 Axes>"
      ]
     },
     "metadata": {
      "needs_background": "light"
     },
     "output_type": "display_data"
    }
   ],
   "source": [
    "plt.figure(figsize=(16,12))\n",
    "\n",
    "plt.title('Number of Hurricans Per Year on the Rise', fontsize=37)\n",
    "plt.ylabel('# of Hurricanes Per Year', fontsize=32)\n",
    "\n",
    "plt.bar(annual_hurricane_data.index, annual_hurricane_data['Hurricane Count'], label='Hurricanes Per Year')\n",
    "plt.plot()\n",
    "\n",
    "plt.legend();"
   ]
  },
  {
   "cell_type": "code",
   "execution_count": null,
   "metadata": {},
   "outputs": [],
   "source": []
  },
  {
   "cell_type": "code",
   "execution_count": null,
   "metadata": {},
   "outputs": [],
   "source": []
  }
 ],
 "metadata": {
  "kernelspec": {
   "display_name": "Python 3",
   "language": "python",
   "name": "python3"
  },
  "language_info": {
   "codemirror_mode": {
    "name": "ipython",
    "version": 3
   },
   "file_extension": ".py",
   "mimetype": "text/x-python",
   "name": "python",
   "nbconvert_exporter": "python",
   "pygments_lexer": "ipython3",
   "version": "3.7.3"
  }
 },
 "nbformat": 4,
 "nbformat_minor": 2
}
