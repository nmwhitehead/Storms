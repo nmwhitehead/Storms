{
 "cells": [
  {
   "cell_type": "code",
   "execution_count": 1,
   "metadata": {},
   "outputs": [],
   "source": [
    "import numpy as np\n",
    "import pandas as pd\n",
    "import seaborn as sns\n",
    "import matplotlib.pyplot as plt\n",
    "import datetime as dt"
   ]
  },
  {
   "cell_type": "code",
   "execution_count": 2,
   "metadata": {},
   "outputs": [],
   "source": [
    "# Data Source = https://www.kaggle.com/noaa/hurricane-database"
   ]
  },
  {
   "cell_type": "markdown",
   "metadata": {},
   "source": [
    "## Load and Clean the Data"
   ]
  },
  {
   "cell_type": "code",
   "execution_count": 3,
   "metadata": {},
   "outputs": [],
   "source": [
    "# Load in and combine the hurricane databases\n",
    "atlantic_storms = pd.read_csv('hurricane-database/atlantic.csv')\n",
    "pacific_storms = pd.read_csv('hurricane-database/pacific.csv')\n",
    "all_hurricanes = atlantic_hurricanes.append(pacific_hurricanes)"
   ]
  },
  {
   "cell_type": "code",
   "execution_count": 4,
   "metadata": {},
   "outputs": [],
   "source": [
    "# Replace -999 with NaN\n",
    "all_hurricanes = all_hurricanes.replace(-999, np.nan)\n",
    "all_hurricanes = all_hurricanes.replace(-99, np.nan)"
   ]
  },
  {
   "cell_type": "code",
   "execution_count": 5,
   "metadata": {},
   "outputs": [],
   "source": [
    "# There's probably an easier way to do this, but 8 didgit numbers are a bad way to show year month and day\n",
    "all_hurricanes['Year'] = all_hurricanes['Date'].astype(str).str.slice(0, 4)\n",
    "all_hurricanes['Month'] = all_hurricanes['Date'].astype(str).str.slice(4, 6)\n",
    "all_hurricanes['Day'] = all_hurricanes['Date'].astype(str).str.slice(6, 8)\n",
    "all_hurricanes['Hour'] = all_hurricanes['Time'].astype(str).str[:-2]\n",
    "all_hurricanes['Minute'] = all_hurricanes['Time'].astype(str).str[-2:]"
   ]
  },
  {
   "cell_type": "code",
   "execution_count": 6,
   "metadata": {},
   "outputs": [],
   "source": [
    "# Clean the hours and minutes\n",
    "all_hurricanes['Hour'] = all_hurricanes['Hour'].replace('', 0)\n",
    "all_hurricanes['Minute'] = all_hurricanes['Minute'].astype(str).replace('0', '00')"
   ]
  },
  {
   "cell_type": "code",
   "execution_count": 7,
   "metadata": {},
   "outputs": [],
   "source": [
    "# And now add those together and convert to datetime\n",
    "all_hurricanes['Datetime'] = all_hurricanes['Year'] + '-' + all_hurricanes['Month'] + '-' + all_hurricanes['Day'] + ' ' + all_hurricanes['Hour'].astype(str) + ':' + all_hurricanes['Minute']\n",
    "all_hurricanes['Datetime'] = pd.to_datetime(all_hurricanes['Datetime'])"
   ]
  },
  {
   "cell_type": "code",
   "execution_count": 53,
   "metadata": {},
   "outputs": [
    {
     "data": {
      "text/plain": [
       "array([' HU', ' TS', ' EX', ' TD', ' LO', ' DB', ' SD', ' SS', ' WV',\n",
       "       ' ET', ' PT', ' ST', ' HU '], dtype=object)"
      ]
     },
     "execution_count": 53,
     "metadata": {},
     "output_type": "execute_result"
    }
   ],
   "source": [
    "all_hurricanes['Status'].unique()"
   ]
  },
  {
   "cell_type": "code",
   "execution_count": 8,
   "metadata": {},
   "outputs": [
    {
     "data": {
      "text/html": [
       "<div>\n",
       "<style scoped>\n",
       "    .dataframe tbody tr th:only-of-type {\n",
       "        vertical-align: middle;\n",
       "    }\n",
       "\n",
       "    .dataframe tbody tr th {\n",
       "        vertical-align: top;\n",
       "    }\n",
       "\n",
       "    .dataframe thead th {\n",
       "        text-align: right;\n",
       "    }\n",
       "</style>\n",
       "<table border=\"1\" class=\"dataframe\">\n",
       "  <thead>\n",
       "    <tr style=\"text-align: right;\">\n",
       "      <th></th>\n",
       "      <th>ID</th>\n",
       "      <th>Name</th>\n",
       "      <th>Date</th>\n",
       "      <th>Time</th>\n",
       "      <th>Event</th>\n",
       "      <th>Status</th>\n",
       "      <th>Latitude</th>\n",
       "      <th>Longitude</th>\n",
       "      <th>Maximum Wind</th>\n",
       "      <th>Minimum Pressure</th>\n",
       "      <th>...</th>\n",
       "      <th>High Wind NE</th>\n",
       "      <th>High Wind SE</th>\n",
       "      <th>High Wind SW</th>\n",
       "      <th>High Wind NW</th>\n",
       "      <th>Year</th>\n",
       "      <th>Month</th>\n",
       "      <th>Day</th>\n",
       "      <th>Hour</th>\n",
       "      <th>Minute</th>\n",
       "      <th>Datetime</th>\n",
       "    </tr>\n",
       "  </thead>\n",
       "  <tbody>\n",
       "    <tr>\n",
       "      <td>0</td>\n",
       "      <td>AL011851</td>\n",
       "      <td>UNNAMED</td>\n",
       "      <td>18510625</td>\n",
       "      <td>0</td>\n",
       "      <td></td>\n",
       "      <td>HU</td>\n",
       "      <td>28.0N</td>\n",
       "      <td>94.8W</td>\n",
       "      <td>80.0</td>\n",
       "      <td>NaN</td>\n",
       "      <td>...</td>\n",
       "      <td>NaN</td>\n",
       "      <td>NaN</td>\n",
       "      <td>NaN</td>\n",
       "      <td>NaN</td>\n",
       "      <td>1851</td>\n",
       "      <td>06</td>\n",
       "      <td>25</td>\n",
       "      <td>0</td>\n",
       "      <td>00</td>\n",
       "      <td>1851-06-25 00:00:00</td>\n",
       "    </tr>\n",
       "    <tr>\n",
       "      <td>1</td>\n",
       "      <td>AL011851</td>\n",
       "      <td>UNNAMED</td>\n",
       "      <td>18510625</td>\n",
       "      <td>600</td>\n",
       "      <td></td>\n",
       "      <td>HU</td>\n",
       "      <td>28.0N</td>\n",
       "      <td>95.4W</td>\n",
       "      <td>80.0</td>\n",
       "      <td>NaN</td>\n",
       "      <td>...</td>\n",
       "      <td>NaN</td>\n",
       "      <td>NaN</td>\n",
       "      <td>NaN</td>\n",
       "      <td>NaN</td>\n",
       "      <td>1851</td>\n",
       "      <td>06</td>\n",
       "      <td>25</td>\n",
       "      <td>6</td>\n",
       "      <td>00</td>\n",
       "      <td>1851-06-25 06:00:00</td>\n",
       "    </tr>\n",
       "    <tr>\n",
       "      <td>2</td>\n",
       "      <td>AL011851</td>\n",
       "      <td>UNNAMED</td>\n",
       "      <td>18510625</td>\n",
       "      <td>1200</td>\n",
       "      <td></td>\n",
       "      <td>HU</td>\n",
       "      <td>28.0N</td>\n",
       "      <td>96.0W</td>\n",
       "      <td>80.0</td>\n",
       "      <td>NaN</td>\n",
       "      <td>...</td>\n",
       "      <td>NaN</td>\n",
       "      <td>NaN</td>\n",
       "      <td>NaN</td>\n",
       "      <td>NaN</td>\n",
       "      <td>1851</td>\n",
       "      <td>06</td>\n",
       "      <td>25</td>\n",
       "      <td>12</td>\n",
       "      <td>00</td>\n",
       "      <td>1851-06-25 12:00:00</td>\n",
       "    </tr>\n",
       "    <tr>\n",
       "      <td>3</td>\n",
       "      <td>AL011851</td>\n",
       "      <td>UNNAMED</td>\n",
       "      <td>18510625</td>\n",
       "      <td>1800</td>\n",
       "      <td></td>\n",
       "      <td>HU</td>\n",
       "      <td>28.1N</td>\n",
       "      <td>96.5W</td>\n",
       "      <td>80.0</td>\n",
       "      <td>NaN</td>\n",
       "      <td>...</td>\n",
       "      <td>NaN</td>\n",
       "      <td>NaN</td>\n",
       "      <td>NaN</td>\n",
       "      <td>NaN</td>\n",
       "      <td>1851</td>\n",
       "      <td>06</td>\n",
       "      <td>25</td>\n",
       "      <td>18</td>\n",
       "      <td>00</td>\n",
       "      <td>1851-06-25 18:00:00</td>\n",
       "    </tr>\n",
       "    <tr>\n",
       "      <td>4</td>\n",
       "      <td>AL011851</td>\n",
       "      <td>UNNAMED</td>\n",
       "      <td>18510625</td>\n",
       "      <td>2100</td>\n",
       "      <td>L</td>\n",
       "      <td>HU</td>\n",
       "      <td>28.2N</td>\n",
       "      <td>96.8W</td>\n",
       "      <td>80.0</td>\n",
       "      <td>NaN</td>\n",
       "      <td>...</td>\n",
       "      <td>NaN</td>\n",
       "      <td>NaN</td>\n",
       "      <td>NaN</td>\n",
       "      <td>NaN</td>\n",
       "      <td>1851</td>\n",
       "      <td>06</td>\n",
       "      <td>25</td>\n",
       "      <td>21</td>\n",
       "      <td>00</td>\n",
       "      <td>1851-06-25 21:00:00</td>\n",
       "    </tr>\n",
       "  </tbody>\n",
       "</table>\n",
       "<p>5 rows × 28 columns</p>\n",
       "</div>"
      ],
      "text/plain": [
       "         ID                 Name      Date  Time Event Status Latitude  \\\n",
       "0  AL011851              UNNAMED  18510625     0           HU    28.0N   \n",
       "1  AL011851              UNNAMED  18510625   600           HU    28.0N   \n",
       "2  AL011851              UNNAMED  18510625  1200           HU    28.0N   \n",
       "3  AL011851              UNNAMED  18510625  1800           HU    28.1N   \n",
       "4  AL011851              UNNAMED  18510625  2100     L     HU    28.2N   \n",
       "\n",
       "  Longitude  Maximum Wind  Minimum Pressure  ...  High Wind NE  High Wind SE  \\\n",
       "0     94.8W          80.0               NaN  ...           NaN           NaN   \n",
       "1     95.4W          80.0               NaN  ...           NaN           NaN   \n",
       "2     96.0W          80.0               NaN  ...           NaN           NaN   \n",
       "3     96.5W          80.0               NaN  ...           NaN           NaN   \n",
       "4     96.8W          80.0               NaN  ...           NaN           NaN   \n",
       "\n",
       "   High Wind SW  High Wind NW  Year  Month  Day  Hour  Minute  \\\n",
       "0           NaN           NaN  1851     06   25     0      00   \n",
       "1           NaN           NaN  1851     06   25     6      00   \n",
       "2           NaN           NaN  1851     06   25    12      00   \n",
       "3           NaN           NaN  1851     06   25    18      00   \n",
       "4           NaN           NaN  1851     06   25    21      00   \n",
       "\n",
       "             Datetime  \n",
       "0 1851-06-25 00:00:00  \n",
       "1 1851-06-25 06:00:00  \n",
       "2 1851-06-25 12:00:00  \n",
       "3 1851-06-25 18:00:00  \n",
       "4 1851-06-25 21:00:00  \n",
       "\n",
       "[5 rows x 28 columns]"
      ]
     },
     "execution_count": 8,
     "metadata": {},
     "output_type": "execute_result"
    }
   ],
   "source": [
    "all_hurricanes.head()"
   ]
  },
  {
   "cell_type": "code",
   "execution_count": null,
   "metadata": {},
   "outputs": [],
   "source": []
  },
  {
   "cell_type": "markdown",
   "metadata": {},
   "source": [
    "## Let's Make A Few More Dataframes"
   ]
  },
  {
   "cell_type": "code",
   "execution_count": 9,
   "metadata": {},
   "outputs": [
    {
     "data": {
      "text/plain": [
       "Index(['ID', 'Name', 'Date', 'Time', 'Event', 'Status', 'Latitude',\n",
       "       'Longitude', 'Maximum Wind', 'Minimum Pressure', 'Low Wind NE',\n",
       "       'Low Wind SE', 'Low Wind SW', 'Low Wind NW', 'Moderate Wind NE',\n",
       "       'Moderate Wind SE', 'Moderate Wind SW', 'Moderate Wind NW',\n",
       "       'High Wind NE', 'High Wind SE', 'High Wind SW', 'High Wind NW', 'Year',\n",
       "       'Month', 'Day', 'Hour', 'Minute', 'Datetime'],\n",
       "      dtype='object')"
      ]
     },
     "execution_count": 9,
     "metadata": {},
     "output_type": "execute_result"
    }
   ],
   "source": [
    "all_hurricanes.columns"
   ]
  },
  {
   "cell_type": "code",
   "execution_count": 10,
   "metadata": {},
   "outputs": [],
   "source": [
    "# Let's make a Dataframe that narrows down info on each hurricane\n",
    "each_hurricane = pd.DataFrame(all_hurricanes['Maximum Wind'].groupby(all_hurricanes['ID']).max())\n",
    "each_hurricane['Average Max Speed'] = all_hurricanes['Maximum Wind'].groupby(all_hurricanes['ID']).mean()\n",
    "each_hurricane['Start Date'] = all_hurricanes['Datetime'].groupby(all_hurricanes['ID']).min()\n",
    "each_hurricane['End Date'] = all_hurricanes['Datetime'].groupby(all_hurricanes['ID']).max()"
   ]
  },
  {
   "cell_type": "code",
   "execution_count": 11,
   "metadata": {},
   "outputs": [],
   "source": [
    "# Since the info on the hurricanes was reported every 6 hours,let's break it down as such\n",
    "each_hurricane['Length of Time Rounded Up To Nearest 6 Hours'] = all_hurricanes['Datetime'].groupby(all_hurricanes['ID']).max() - all_hurricanes['Datetime'].groupby(all_hurricanes['ID']).min()"
   ]
  },
  {
   "cell_type": "code",
   "execution_count": 12,
   "metadata": {},
   "outputs": [
    {
     "name": "stderr",
     "output_type": "stream",
     "text": [
      "C:\\Users\\nolan\\Anaconda3\\lib\\site-packages\\ipykernel_launcher.py:2: FutureWarning: by argument to sort_index is deprecated, please use .sort_values(by=...)\n",
      "  \n"
     ]
    }
   ],
   "source": [
    "# Order by Date not ID\n",
    "each_hurricane.sort_index(by=['Start Date'], inplace=True)"
   ]
  },
  {
   "cell_type": "code",
   "execution_count": 13,
   "metadata": {},
   "outputs": [
    {
     "data": {
      "text/html": [
       "<div>\n",
       "<style scoped>\n",
       "    .dataframe tbody tr th:only-of-type {\n",
       "        vertical-align: middle;\n",
       "    }\n",
       "\n",
       "    .dataframe tbody tr th {\n",
       "        vertical-align: top;\n",
       "    }\n",
       "\n",
       "    .dataframe thead th {\n",
       "        text-align: right;\n",
       "    }\n",
       "</style>\n",
       "<table border=\"1\" class=\"dataframe\">\n",
       "  <thead>\n",
       "    <tr style=\"text-align: right;\">\n",
       "      <th></th>\n",
       "      <th>Maximum Wind</th>\n",
       "      <th>Average Max Speed</th>\n",
       "      <th>Start Date</th>\n",
       "      <th>End Date</th>\n",
       "      <th>Length of Time Rounded Up To Nearest 6 Hours</th>\n",
       "    </tr>\n",
       "    <tr>\n",
       "      <th>ID</th>\n",
       "      <th></th>\n",
       "      <th></th>\n",
       "      <th></th>\n",
       "      <th></th>\n",
       "      <th></th>\n",
       "    </tr>\n",
       "  </thead>\n",
       "  <tbody>\n",
       "    <tr>\n",
       "      <td>AL011851</td>\n",
       "      <td>80.0</td>\n",
       "      <td>60.714286</td>\n",
       "      <td>1851-06-25 00:00:00</td>\n",
       "      <td>1851-06-28 00:00:00</td>\n",
       "      <td>3 days 00:00:00</td>\n",
       "    </tr>\n",
       "    <tr>\n",
       "      <td>AL021851</td>\n",
       "      <td>80.0</td>\n",
       "      <td>80.000000</td>\n",
       "      <td>1851-07-05 12:00:00</td>\n",
       "      <td>1851-07-05 12:00:00</td>\n",
       "      <td>0 days 00:00:00</td>\n",
       "    </tr>\n",
       "    <tr>\n",
       "      <td>AL031851</td>\n",
       "      <td>50.0</td>\n",
       "      <td>50.000000</td>\n",
       "      <td>1851-07-10 12:00:00</td>\n",
       "      <td>1851-07-10 12:00:00</td>\n",
       "      <td>0 days 00:00:00</td>\n",
       "    </tr>\n",
       "    <tr>\n",
       "      <td>AL041851</td>\n",
       "      <td>100.0</td>\n",
       "      <td>65.102041</td>\n",
       "      <td>1851-08-16 00:00:00</td>\n",
       "      <td>1851-08-27 18:00:00</td>\n",
       "      <td>11 days 18:00:00</td>\n",
       "    </tr>\n",
       "    <tr>\n",
       "      <td>AL051851</td>\n",
       "      <td>50.0</td>\n",
       "      <td>50.000000</td>\n",
       "      <td>1851-09-13 00:00:00</td>\n",
       "      <td>1851-09-16 18:00:00</td>\n",
       "      <td>3 days 18:00:00</td>\n",
       "    </tr>\n",
       "    <tr>\n",
       "      <td>...</td>\n",
       "      <td>...</td>\n",
       "      <td>...</td>\n",
       "      <td>...</td>\n",
       "      <td>...</td>\n",
       "      <td>...</td>\n",
       "    </tr>\n",
       "    <tr>\n",
       "      <td>EP192015</td>\n",
       "      <td>130.0</td>\n",
       "      <td>74.454545</td>\n",
       "      <td>2015-10-15 00:00:00</td>\n",
       "      <td>2015-10-28 12:00:00</td>\n",
       "      <td>13 days 12:00:00</td>\n",
       "    </tr>\n",
       "    <tr>\n",
       "      <td>EP202015</td>\n",
       "      <td>185.0</td>\n",
       "      <td>83.947368</td>\n",
       "      <td>2015-10-20 06:00:00</td>\n",
       "      <td>2015-10-24 12:00:00</td>\n",
       "      <td>4 days 06:00:00</td>\n",
       "    </tr>\n",
       "    <tr>\n",
       "      <td>AL122015</td>\n",
       "      <td>75.0</td>\n",
       "      <td>53.000000</td>\n",
       "      <td>2015-11-08 18:00:00</td>\n",
       "      <td>2015-11-13 12:00:00</td>\n",
       "      <td>4 days 18:00:00</td>\n",
       "    </tr>\n",
       "    <tr>\n",
       "      <td>EP212015</td>\n",
       "      <td>35.0</td>\n",
       "      <td>28.484848</td>\n",
       "      <td>2015-11-18 06:00:00</td>\n",
       "      <td>2015-11-26 06:00:00</td>\n",
       "      <td>8 days 00:00:00</td>\n",
       "    </tr>\n",
       "    <tr>\n",
       "      <td>EP222015</td>\n",
       "      <td>130.0</td>\n",
       "      <td>64.600000</td>\n",
       "      <td>2015-11-23 12:00:00</td>\n",
       "      <td>2015-11-29 12:00:00</td>\n",
       "      <td>6 days 00:00:00</td>\n",
       "    </tr>\n",
       "  </tbody>\n",
       "</table>\n",
       "<p>2864 rows × 5 columns</p>\n",
       "</div>"
      ],
      "text/plain": [
       "          Maximum Wind  Average Max Speed          Start Date  \\\n",
       "ID                                                              \n",
       "AL011851          80.0          60.714286 1851-06-25 00:00:00   \n",
       "AL021851          80.0          80.000000 1851-07-05 12:00:00   \n",
       "AL031851          50.0          50.000000 1851-07-10 12:00:00   \n",
       "AL041851         100.0          65.102041 1851-08-16 00:00:00   \n",
       "AL051851          50.0          50.000000 1851-09-13 00:00:00   \n",
       "...                ...                ...                 ...   \n",
       "EP192015         130.0          74.454545 2015-10-15 00:00:00   \n",
       "EP202015         185.0          83.947368 2015-10-20 06:00:00   \n",
       "AL122015          75.0          53.000000 2015-11-08 18:00:00   \n",
       "EP212015          35.0          28.484848 2015-11-18 06:00:00   \n",
       "EP222015         130.0          64.600000 2015-11-23 12:00:00   \n",
       "\n",
       "                    End Date Length of Time Rounded Up To Nearest 6 Hours  \n",
       "ID                                                                         \n",
       "AL011851 1851-06-28 00:00:00                              3 days 00:00:00  \n",
       "AL021851 1851-07-05 12:00:00                              0 days 00:00:00  \n",
       "AL031851 1851-07-10 12:00:00                              0 days 00:00:00  \n",
       "AL041851 1851-08-27 18:00:00                             11 days 18:00:00  \n",
       "AL051851 1851-09-16 18:00:00                              3 days 18:00:00  \n",
       "...                      ...                                          ...  \n",
       "EP192015 2015-10-28 12:00:00                             13 days 12:00:00  \n",
       "EP202015 2015-10-24 12:00:00                              4 days 06:00:00  \n",
       "AL122015 2015-11-13 12:00:00                              4 days 18:00:00  \n",
       "EP212015 2015-11-26 06:00:00                              8 days 00:00:00  \n",
       "EP222015 2015-11-29 12:00:00                              6 days 00:00:00  \n",
       "\n",
       "[2864 rows x 5 columns]"
      ]
     },
     "execution_count": 13,
     "metadata": {},
     "output_type": "execute_result"
    }
   ],
   "source": [
    "each_hurricane"
   ]
  },
  {
   "cell_type": "code",
   "execution_count": null,
   "metadata": {},
   "outputs": [],
   "source": []
  },
  {
   "cell_type": "code",
   "execution_count": 34,
   "metadata": {},
   "outputs": [],
   "source": [
    "# Let's get a per year DataFrame going\n",
    "annual_hurricane_data = pd.DataFrame(each_hurricane['End Date'].groupby(each_hurricane['Start Date'].dt.year).count())\n",
    "annual_hurricane_data.index.rename('Year', inplace=True)\n",
    "annual_hurricane_data.columns = ['Hurricane Count']"
   ]
  },
  {
   "cell_type": "code",
   "execution_count": 45,
   "metadata": {},
   "outputs": [],
   "source": [
    "# And let's add to that DataFrame\n",
    "annual_hurricane_data['Longest Hurricane'] = each_hurricane['Length of Time Rounded Up To Nearest 6 Hours'].groupby(each_hurricane['Start Date'].dt.year).max()\n",
    "annual_hurricane_data['Max Wind Speed'] = each_hurricane['Maximum Wind'].groupby(each_hurricane['Start Date'].dt.year).max()"
   ]
  },
  {
   "cell_type": "code",
   "execution_count": 52,
   "metadata": {},
   "outputs": [
    {
     "data": {
      "image/png": "[encoded data removed]",
      "text/plain": [
       "<Figure size 1152x864 with 1 Axes>"
      ]
     },
     "metadata": {
      "needs_background": "light"
     },
     "output_type": "display_data"
    }
   ],
   "source": [
    "annual_hurricane_data['Max Wind Speed'].plot(figsize=(16,12));"
   ]
  },
  {
   "cell_type": "code",
   "execution_count": null,
   "metadata": {},
   "outputs": [],
   "source": []
  },
  {
   "cell_type": "code",
   "execution_count": null,
   "metadata": {},
   "outputs": [],
   "source": []
  },
  {
   "cell_type": "code",
   "execution_count": null,
   "metadata": {},
   "outputs": [],
   "source": []
  },
  {
   "cell_type": "code",
   "execution_count": null,
   "metadata": {},
   "outputs": [],
   "source": []
  }
 ],
 "metadata": {
  "kernelspec": {
   "display_name": "Python 3",
   "language": "python",
   "name": "python3"
  },
  "language_info": {
   "codemirror_mode": {
    "name": "ipython",
    "version": 3
   },
   "file_extension": ".py",
   "mimetype": "text/x-python",
   "name": "python",
   "nbconvert_exporter": "python",
   "pygments_lexer": "ipython3",
   "version": "3.7.3"
  }
 },
 "nbformat": 4,
 "nbformat_minor": 2
}
